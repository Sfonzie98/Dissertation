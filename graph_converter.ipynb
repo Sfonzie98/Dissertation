{
  "cells": [
    {
      "cell_type": "markdown",
      "metadata": {
        "id": "view-in-github",
        "colab_type": "text"
      },
      "source": [
        "<a href=\"https://colab.research.google.com/github/Sfonzie98/Dissertation/blob/main/graph_converter.ipynb\" target=\"_parent\"><img src=\"https://colab.research.google.com/assets/colab-badge.svg\" alt=\"Open In Colab\"/></a>"
      ]
    },
    {
      "cell_type": "markdown",
      "metadata": {
        "id": "1uDkrcGOzrjN"
      },
      "source": [
        "# Graph Converter\n",
        "> "
      ]
    },
    {
      "cell_type": "markdown",
      "metadata": {
        "id": "9clHJHNwz_rh"
      },
      "source": [
        "## Install and Import Usefull Libreries"
      ]
    },
    {
      "cell_type": "code",
      "execution_count": null,
      "metadata": {
        "id": "r8Q1B5Ir5SNB"
      },
      "outputs": [],
      "source": [
        "!pip install rdkit-pypi\n",
        "!pip install deepchem\n",
        "!pip install -q dgl\n",
        "!pip install networkx\n",
        "!pip3 install torch==1.12.0+cu113 -f https://download.pytorch.org/whl/torch_stable.html\n",
        "!pip install torch-scatter torch-sparse -f https://data.pyg.org/whl/torch-1.12.0+cu113.html\n",
        "!pip install -q git+https://github.com/pyg-team/pytorch_geometric.git"
      ]
    },
    {
      "cell_type": "code",
      "execution_count": null,
      "metadata": {
        "id": "zt9ruPdYExWV"
      },
      "outputs": [],
      "source": [
        "# Usefull libreries to load and process the data\n",
        "import pandas as pd\n",
        "import numpy as np\n",
        "import os\n",
        "import os.path as osp\n",
        "from tqdm import tqdm\n",
        "\n",
        "# Usefull libresies to create and featurize the graph\n",
        "import torch\n",
        "import torch_geometric\n",
        "from torch_geometric import data\n",
        "from torch_geometric.data import Data, Dataset, InMemoryDataset\n",
        "import networkx as nx\n",
        "\n",
        "# Useful libraries to visualize chemical structures and calculate chemical properties \n",
        "import rdkit\n",
        "from rdkit import Chem\n",
        "from rdkit.Chem import Draw\n",
        "import deepchem as dc"
      ]
    },
    {
      "cell_type": "markdown",
      "metadata": {
        "id": "5ZiHkZ0F04bA"
      },
      "source": [
        "## Create and Featurize the Graph"
      ]
    },
    {
      "cell_type": "code",
      "execution_count": null,
      "metadata": {
        "id": "DWCojvmT5MsY"
      },
      "outputs": [],
      "source": [
        "class MoleculeDataset(Dataset):\n",
        "  def __init__(self, root, filename, test=False, transform=None, pre_transform=None):\n",
        "    \"\"\"\n",
        "    root = Where the dataset should be stored. This folder is split\n",
        "    into raw_dir (downloaded dataset) and processed_dir (processed data). \n",
        "    \"\"\"\n",
        "    self.test = test\n",
        "    self.filename = filename\n",
        "    super(MoleculeDataset, self).__init__(root, transform, pre_transform)\n",
        "        \n",
        "  @property\n",
        "  def raw_file_names(self):\n",
        "    \"\"\" \n",
        "    If this file exists in raw_dir, the download is not triggered.\n",
        "    (The download func. is not implemented here)  \n",
        "    \"\"\"\n",
        "    return self.filename\n",
        "\n",
        "  @property\n",
        "  def processed_file_names(self):\n",
        "    \"\"\" If these files are found in raw_dir, processing is skipped\"\"\"\n",
        "    return 'processed.pt'\n",
        "\n",
        "  def download(self):\n",
        "    pass\n",
        "\n",
        "  def process(self):\n",
        "    self.data = pd.read_csv(self.raw_paths[0])\n",
        "    for index, mol in tqdm(self.data.iterrows(), total=self.data.shape[0]):\n",
        "      mol_obj = Chem.MolFromSmiles(mol[\"Smiles\"])    \n",
        "      # Get adjacency info\n",
        "      edge_index = self.get_adjacency_info(mol_obj)       \n",
        "      # Get edge features\n",
        "      edge_feats = self.get_edge_features(mol_obj)\n",
        "      # Get node features\n",
        "      node_feats = self.get_node_features(mol_obj)\n",
        "      # Get labels info\n",
        "      classes = self.get_labels(mol[\"Label\"])\n",
        "\n",
        "      # Create data object\n",
        "      data = Data(edge_index=edge_index,\n",
        "                  edge_attr=edge_feats,\n",
        "                  x=node_feats,\n",
        "                  y=classes,\n",
        "                  smiles=mol[\"Smiles\"]) \n",
        "      if self.test:\n",
        "        torch.save(data, \n",
        "                   os.path.join(self.processed_dir, \n",
        "                                f'data_test_{index}.pt'))\n",
        "      else:\n",
        "        torch.save(data,\n",
        "                   os.path.join(self.processed_dir,\n",
        "                                f'data_{index}.pt'))\n",
        "      \n",
        "\n",
        "  def get_node_features(self, mol):\n",
        "    \"\"\" \n",
        "    This will return a matrix / 2d array of the shape\n",
        "    [Number of Nodes, Node Feature size]\n",
        "    \"\"\"\n",
        "    all_node_feats = []\n",
        "\n",
        "    for atom in mol.GetAtoms():\n",
        "      node_feats = []\n",
        "      # Feature 1: Atomic number        \n",
        "      node_feats.append(atom.GetAtomicNum())\n",
        "      # Feature 2: Atomic mass \n",
        "      node_feats.append(atom.GetMass())\n",
        "      # Feature 3: Atom degree\n",
        "      node_feats.append(atom.GetDegree())\n",
        "      # Feature 4: The degree of an atom including Hs\n",
        "      node_feats.append(atom.GetTotalDegree())\n",
        "      # Feature 5: Explicit valence\n",
        "      node_feats.append(atom.GetExplicitValence())\n",
        "      # Feature 6: Implicit valence\n",
        "      node_feats.append(atom.GetImplicitValence())\n",
        "      # Feature 7: Formal charge\n",
        "      node_feats.append(atom.GetFormalCharge())\n",
        "      # Feature 8: Hybridization\n",
        "      node_feats.append(atom.GetHybridization())\n",
        "      # Feature 9: Aromaticity\n",
        "      node_feats.append(atom.GetIsAromatic())\n",
        "      # Feature 10: Total Num Hs\n",
        "      node_feats.append(atom.GetTotalNumHs())\n",
        "      # Feature 11: Radical Electrons\n",
        "      node_feats.append(atom.GetNumRadicalElectrons())\n",
        "      # Feature 12: In Ring\n",
        "      node_feats.append(atom.IsInRing())\n",
        "      # Feature 13: Atom is chiral center\n",
        "      node_feats.append(atom.HasProp('_ChiralityPossible'))\n",
        "      # Feature 14: Chirality\n",
        "      node_feats.append(atom.GetChiralTag())\n",
        "\n",
        "      # Append node features to matrix\n",
        "      all_node_feats.append(node_feats)\n",
        "\n",
        "    all_node_feats = np.asarray(all_node_feats)\n",
        "    return torch.tensor(all_node_feats, dtype=torch.float)\n",
        "\n",
        "  def get_edge_features(self, mol):\n",
        "    \"\"\" \n",
        "    This will return a matrix / 2d array of the shape\n",
        "    [Number of edges, Edge Feature size]\n",
        "    \"\"\"\n",
        "    all_edge_feats = []\n",
        "\n",
        "    for bond in mol.GetBonds():\n",
        "      edge_feats = []\n",
        "      # Feature 1: Bond type (as double)\n",
        "      edge_feats.append(bond.GetBondTypeAsDouble())\n",
        "      # Feature 2: Rings\n",
        "      edge_feats.append(bond.IsInRing())\n",
        "      # Feature 3: Conjugation\n",
        "      edge_feats.append(bond.GetIsConjugated())\n",
        "      # Feature 4: E/Z configuration\n",
        "      edge_feats.append(bond.GetStereo())\n",
        "      # Append node features to matrix (twice, per direction)\n",
        "      all_edge_feats += [edge_feats, edge_feats]\n",
        "\n",
        "    all_edge_feats = np.asarray(all_edge_feats)\n",
        "    return torch.tensor(all_edge_feats, dtype=torch.float)\n",
        "\n",
        "  def get_adjacency_info(self, mol):\n",
        "    \"\"\"\n",
        "    We could also use rdmolops.GetAdjacencyMatrix(mol)\n",
        "    but we want to be sure that the order of the indices\n",
        "    matches the order of the edge features\n",
        "    \"\"\"\n",
        "    edge_indices = []\n",
        "    for bond in mol.GetBonds():\n",
        "      i = bond.GetBeginAtomIdx()\n",
        "      j = bond.GetEndAtomIdx()\n",
        "      edge_indices += [[i, j], [j, i]]\n",
        "\n",
        "    edge_indices = torch.tensor(edge_indices)\n",
        "    edge_indices = edge_indices.t().to(torch.long).view(2, -1)\n",
        "    return edge_indices\n",
        "\n",
        "  def get_labels(self, label):\n",
        "    label = np.asarray([label])\n",
        "    return torch.tensor(label, dtype=torch.int64)\n",
        "\n",
        "  def len(self):\n",
        "    return self.data.shape[0]\n",
        "\n",
        "  def get(self, idx):\n",
        "    if self.test:\n",
        "      data = torch.load(os.path.join(self.processed_dir,\n",
        "                                     f'data_test_{idx}.pt'))\n",
        "    else:\n",
        "      data = torch.load(os.path.join(self.processed_dir,\n",
        "                                     f'data_{idx}.pt'))   \n",
        "      \n",
        "    return data"
      ]
    }
  ],
  "metadata": {
    "accelerator": "GPU",
    "colab": {
      "collapsed_sections": [],
      "provenance": [],
      "mount_file_id": "13abtqPUBULbr0AO7Nou3l8OQal38s72t",
      "authorship_tag": "ABX9TyNKIlDqqth5jC+VRT3+W744",
      "include_colab_link": true
    },
    "kernelspec": {
      "display_name": "Python 3",
      "name": "python3"
    },
    "language_info": {
      "name": "python"
    }
  },
  "nbformat": 4,
  "nbformat_minor": 0
}