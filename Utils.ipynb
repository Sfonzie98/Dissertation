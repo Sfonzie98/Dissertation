{
  "nbformat": 4,
  "nbformat_minor": 0,
  "metadata": {
    "colab": {
      "provenance": [],
      "collapsed_sections": [],
      "authorship_tag": "ABX9TyOcWO8YYdXKN4cyoqnLkqqz",
      "include_colab_link": true
    },
    "kernelspec": {
      "name": "python3",
      "display_name": "Python 3"
    },
    "language_info": {
      "name": "python"
    }
  },
  "cells": [
    {
      "cell_type": "markdown",
      "metadata": {
        "id": "view-in-github",
        "colab_type": "text"
      },
      "source": [
        "<a href=\"https://colab.research.google.com/github/Sfonzie98/Dissertation/blob/main/Utils.ipynb\" target=\"_parent\"><img src=\"https://colab.research.google.com/assets/colab-badge.svg\" alt=\"Open In Colab\"/></a>"
      ]
    },
    {
      "cell_type": "markdown",
      "source": [
        "# Libraries"
      ],
      "metadata": {
        "id": "pRKJKBEZY2CS"
      }
    },
    {
      "cell_type": "code",
      "execution_count": null,
      "metadata": {
        "id": "6EnKRWG1umY-"
      },
      "outputs": [],
      "source": [
        "!pip3 install torch==1.12.0+cu113 -f https://download.pytorch.org/whl/torch_stable.html\n",
        "!pip install torch-scatter torch-sparse -f https://data.pyg.org/whl/torch-1.12.0+cu113.html\n",
        "!pip install -q git+https://github.com/pyg-team/pytorch_geometric.git\n",
        "!pip install import-ipynb\n",
        "!pip install networkx\n",
        "!pip install torchmetrics\n",
        "!pip install rdkit-pypi"
      ]
    },
    {
      "cell_type": "code",
      "source": [
        "# Usefull libreries to load and process the data\n",
        "import pandas as pd\n",
        "import numpy as np\n",
        "import matplotlib.pyplot as plt\n",
        "from sklearn.exceptions import ConvergenceWarning\n",
        "from sklearn.metrics import accuracy_score\n",
        "from sklearn.svm import LinearSVC\n",
        "import import_ipynb\n",
        "import warnings\n",
        "import os\n",
        "import os.path as osp\n",
        "from tqdm import tqdm\n",
        "\n",
        "# Usefull libresies to create and work on graph\n",
        "import torch\n",
        "import torch_geometric\n",
        "import torch.nn.functional as F\n",
        "from torch_geometric.loader import DataLoader\n",
        "from torch_geometric import data\n",
        "from torch_geometric.data import Data, Dataset, Batch\n",
        "import torch_geometric.utils\n",
        "from torch.nn import Linear, BatchNorm1d, ReLU, Sequential\n",
        "import torch.nn.functional as F\n",
        "from torch_geometric.nn import global_mean_pool, GCNConv, GINConv, WLConv\n",
        "import networkx as nx\n",
        "from torchmetrics import F1Score\n",
        "\n",
        "# Useful libraries to visualize chemical structures and calculate chemical properties \n",
        "import rdkit\n",
        "from rdkit import Chem\n",
        "from rdkit.Chem import Draw\n",
        "from rdkit.Chem.rdMolDescriptors import CalcMolFormula"
      ],
      "metadata": {
        "id": "_MOrm1crvNgw"
      },
      "execution_count": null,
      "outputs": []
    },
    {
      "cell_type": "markdown",
      "source": [
        "# Utils"
      ],
      "metadata": {
        "id": "oCEtDcHuY6i9"
      }
    },
    {
      "cell_type": "code",
      "source": [
        "# Draw colorful molecules\n",
        "\n",
        "def draw_molecule(torch_graph):\n",
        "  ''' (PyTorch Geometric graph) --> NetworkX graph picture\n",
        "\n",
        "  The function creates an image of the molecule starting from its graph,\n",
        "  assigning the following colors to the elements:\n",
        "  Carbon --> black\n",
        "  Oxigen --> red\n",
        "  Nitrogen --> blue\n",
        "  Others --> grey\n",
        "  '''\n",
        "  color_map = {'C': 'black',\n",
        "             'O': 'red',\n",
        "             'N': 'blue',\n",
        "             'S': 'yellow',\n",
        "             'B': 'green',\n",
        "             'P': 'orange',\n",
        "             'Cl': 'pink',\n",
        "             'Br': 'brown',\n",
        "             'Se': 'azure'}\n",
        "\n",
        "  mol = Chem.MolFromSmiles(torch_graph['smiles'])\n",
        "  G = torch_geometric.utils.to_networkx(torch_graph, to_undirected=True)\n",
        "\n",
        "  for atom in mol.GetAtoms():\n",
        "    G.add_node(atom.GetIdx(),\n",
        "                atom_symbol=atom.GetSymbol())\n",
        "  \n",
        "  molecule_atom = nx.get_node_attributes(G, 'atom_symbol')\n",
        "\n",
        "  molecule_colors = []\n",
        "  for idx in G.nodes():\n",
        "      if (G.nodes[idx]['atom_symbol'] in color_map):\n",
        "          molecule_colors.append(color_map[G.nodes[idx]['atom_symbol']])\n",
        "      else:\n",
        "          molecule_colors.append('gray')\n",
        "\n",
        "  Gr = plt.figure(figsize=(8, 8))\n",
        "  Gr = nx.draw(G,\n",
        "        labels=molecule_atom,\n",
        "        with_labels = True,\n",
        "        node_color=molecule_colors,\n",
        "        node_size=200)\n",
        "  \n",
        "  plt.show()"
      ],
      "metadata": {
        "id": "mu_b7SoQvwIb"
      },
      "execution_count": null,
      "outputs": []
    },
    {
      "cell_type": "code",
      "source": [
        "# Returns the chemical formula of a molecule\n",
        "\n",
        "def formula(smiles):\n",
        "  ''' (SMILES str) --> RDKit object\n",
        "\n",
        "  The function converts the smile string to a mol \n",
        "  object and calculates the chemical formula it returns.\n",
        "  '''\n",
        "  \n",
        "  mol = Chem.MolFromSmiles(smiles)\n",
        "  c_f = CalcMolFormula(mol)\n",
        "  return c_f"
      ],
      "metadata": {
        "id": "XPHUQ_iOWVHs"
      },
      "execution_count": null,
      "outputs": []
    },
    {
      "cell_type": "code",
      "source": [
        "# Returns the class of activity\n",
        "\n",
        "def activity(torch_graph):\n",
        "  ''' (PyTorch Geometric graph) --> str\n",
        "  \n",
        "  The function take as input a PyTorch graph, extract the label value\n",
        "  and return a string with molecule's activity.\n",
        "  '''\n",
        "\n",
        "  if torch_graph.y == 2:\n",
        "    return 'Very Active'\n",
        "  elif torch_graph.y == 1:\n",
        "    return 'Moderately Active'\n",
        "  elif torch_graph.y == 0:\n",
        "    return 'Non Active'\n",
        "  else:\n",
        "    return 'Activity data is non available'\n"
      ],
      "metadata": {
        "id": "wxReBbB30zgt"
      },
      "execution_count": null,
      "outputs": []
    },
    {
      "cell_type": "code",
      "source": [
        "# Train algorithms\n",
        "\n",
        "def train(model, criterion, optimizer, loader, lamb=1):\n",
        "  model.train()\n",
        "  loss_all = 0\n",
        "  for data in loader:\n",
        "    output = model(data.x, data.edge_index, data.batch)\n",
        "    loss = criterion(output, data.y)\n",
        "    \n",
        "    l2_lambda = lamb\n",
        "    l2_norm = sum(p.pow(2.0).sum()\n",
        "                  for p in model.parameters())\n",
        "    loss = loss + l2_lambda * l2_norm\n",
        "    \n",
        "    optimizer.zero_grad()\n",
        "    loss.backward()\n",
        "    optimizer.step()\n",
        "    loss_all += loss.item() * data.num_graphs\n",
        "  return loss_all / len(loader.dataset)"
      ],
      "metadata": {
        "id": "eTGzNeVGY96I"
      },
      "execution_count": null,
      "outputs": []
    },
    {
      "cell_type": "code",
      "source": [
        "# Calculate the loss function on the test dataset\n",
        "\n",
        "def test_loss(model, criterion, loader):\n",
        "  total_loss_val = 0\n",
        "  with torch.no_grad():\n",
        "    for data in loader:\n",
        "      output = model(data.x, data.edge_index, data.batch)\n",
        "      batch_loss = criterion(output, data.y)\n",
        "      \n",
        "      total_loss_val += batch_loss.item() * data.num_graphs\n",
        "  return total_loss_val / len(loader.dataset)"
      ],
      "metadata": {
        "id": "O864jRDcZnV8"
      },
      "execution_count": null,
      "outputs": []
    },
    {
      "cell_type": "code",
      "source": [
        "# Calculate the model accuracy\n",
        "\n",
        "def acc(model, n_class, loader):\n",
        "  model.eval()\n",
        "  for data in loader:\n",
        "    output = model(data.x, data.edge_index, data.batch)\n",
        "\n",
        "    f1 = F1Score(average='macro', num_classes=n_class)\n",
        "    f1_s = f1(output, data.y)\n",
        "  \n",
        "  return f1_s"
      ],
      "metadata": {
        "id": "IGUG19orZ_nT"
      },
      "execution_count": null,
      "outputs": []
    }
  ]
}